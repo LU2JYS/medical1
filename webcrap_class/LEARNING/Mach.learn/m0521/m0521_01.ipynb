{
 "cells": [
  {
   "cell_type": "code",
   "execution_count": 2,
   "metadata": {},
   "outputs": [],
   "source": [
    "from sklearn import svm,metrics\n",
    "from sklearn.neighbors import KNeighborsClassifier\n",
    "from sklearn.model_selection import train_test_split\n",
    "import pandas as pd\n",
    "import numpy as np\n",
    "import random\n",
    "import matplotlib.pyplot as plt\n",
    "import matplotlib\n",
    "import glob, os.path, re\n",
    "\n",
    "matplotlib.rcParams['axes.unicode_minus'] = False  # 마이너스 표시 해결\n",
    "# 한글설정\n",
    "matplotlib.rcParams['font.family'] = 'Malgun Gothic' # windows 사용자\n",
    "# matplotlib.rcParams['font.family'] = 'AppleGothic Gothic' # Mac사용자\n",
    "matplotlib.rcParams['font.size'] = '10' # 글자크기"
   ]
  },
  {
   "cell_type": "code",
   "execution_count": 3,
   "metadata": {},
   "outputs": [],
   "source": [
    "# 정규식 표현\n",
    "\n",
    "# . 하나의 문자\n",
    "# ^ 문자열 시작\n",
    "# $ 문자열의 끝\n",
    "# [ ] 대괄호안에  일치하려는 것을 입력시킴.\n",
    "# [0-9] 0부터 9까지의 숫자가 일치하는 확인\n",
    "# [a-zA-Z] 영문자가 일치하는지 확인\n",
    "# [ㄱ-ㅎ가-힣] 국문자와 일치하는지 확인\n",
    "# {} 문자의 길이\n",
    "# {2} 문자의 길이가 2자리\n",
    "# {3, } 문자의 길이가 3자리 이상\n",
    "# {,3} 문자의 길이가 3자리 까지\n",
    "# {2,3} 문자의 길이가 2자리에서 3자리까지 확인\n",
    "\n",
    "# match()처음부터 모두 일치하는 것인지 확인\n",
    "# search() 일치하는것이 있는지 확인\n",
    "# findall() 일차하는것이 있는지 확인\n",
    "# group() 일치하면 해당되는 문자를 출력\n",
    "# compile() 정규식 형태를 지정\n",
    "# sub() 일치하는 데이터를 삭제\n"
   ]
  },
  {
   "cell_type": "code",
   "execution_count": 4,
   "metadata": {},
   "outputs": [
    {
     "name": "stdout",
     "output_type": "stream",
     "text": [
      "매칭이 안됨 loook\n"
     ]
    }
   ],
   "source": [
    "import re\n",
    "p = re.compile('lo.k') # .도 하나의 문자이다..\n",
    "word='loook' #두자리가 들어와서 안됨\n",
    "if p.match('word'):\n",
    "    print('매칭됨.',word)\n",
    "else:\n",
    "    print('매칭이 안됨',word)\n",
    "    "
   ]
  },
  {
   "cell_type": "code",
   "execution_count": 5,
   "metadata": {},
   "outputs": [
    {
     "name": "stdout",
     "output_type": "stream",
     "text": [
      "매칭됨. loak\n"
     ]
    }
   ],
   "source": [
    "import re\n",
    "p = re.compile('lo.k') # 정규표현식 형태를 지정. 하나의 문자\n",
    "word='loak' #3자리가 맞아서 매칭이됨\n",
    "if re.match('lo.k',word):\n",
    "    print('매칭됨.',word)\n",
    "    \n",
    "else:\n",
    "    print('매칭이 안됨',word)\n",
    "    "
   ]
  },
  {
   "cell_type": "code",
   "execution_count": 6,
   "metadata": {},
   "outputs": [
    {
     "name": "stdout",
     "output_type": "stream",
     "text": [
      "매칭됨. good care\n"
     ]
    }
   ],
   "source": [
    "word='good care'\n",
    "if re.search('ca.e',word): # re.search 는  글자범위내에 글자가 있으면 무조건 true\n",
    "    print('매칭됨.',word)\n",
    "    \n",
    "else:\n",
    "    print('매칭이 안됨',word)"
   ]
  },
  {
   "cell_type": "code",
   "execution_count": 7,
   "metadata": {},
   "outputs": [
    {
     "name": "stdout",
     "output_type": "stream",
     "text": [
      "매칭됨. 삼성전자는 21일 개선된 AI(인공지능) 기능을 제공하는 '갤럭시 북4 엣지'를 공개했다.\n"
     ]
    }
   ],
   "source": [
    "word=\"삼성전자는 21일 개선된 AI(인공지능) 기능을 제공하는 '갤럭시 북4 엣지'를 공개했다.\"\n",
    "if re.search('지능',word): # re.search 는  글자범위내에 글자가 있으면 무조건 true\n",
    "    print('매칭됨.',word)\n",
    "    \n",
    "else:\n",
    "    print('매칭이 안됨',word)"
   ]
  },
  {
   "cell_type": "code",
   "execution_count": 8,
   "metadata": {},
   "outputs": [
    {
     "name": "stdout",
     "output_type": "stream",
     "text": [
      "en\n"
     ]
    },
    {
     "data": {
      "text/plain": [
       "'en'"
      ]
     },
     "execution_count": 8,
     "metadata": {},
     "output_type": "execute_result"
    }
   ],
   "source": [
    "word='en_1.txt'\n",
    "word2='fr-1.txt'\n",
    "\n",
    "if re.match('^[a-z]{2,}',word):\n",
    "    print(re.match('^[a-z]{2,}',word).group())\n",
    "else:\n",
    "    print('매칭이 안됨')\n",
    "\n",
    "re.match('^[a-z]{2,}',word).group() # word에 두자리까지있는 형태를 알려준다 ex)en 또는 fr"
   ]
  },
  {
   "cell_type": "code",
   "execution_count": 9,
   "metadata": {},
   "outputs": [
    {
     "data": {
      "text/plain": [
       "'갤럭시북4엣지는44356cm14형1종과406cm16형2종등모두세가지모델로출시된다16형기준최대22시간의동영상재생이가능한배터리가탑재됐고초고속충전기능도갖췄다'"
      ]
     },
     "execution_count": 9,
     "metadata": {},
     "output_type": "execute_result"
    }
   ],
   "source": [
    "\n",
    "word = \"갤럭시 북4 ???엣지는%44# 35.6cm(14형) 1종과@ 40.6cm... (16형)** 2종 등! 모두 세 가지 모델로 출시된다. 16형 기준 최대 22시간의 동영상 재생이 가능한 배터리가 탑재됐고, 초고속 충전 기능도 갖췄다.\"\n",
    "# 숫자만 찾아서 공백으로 처리해줘 >> sub('[0-9]','')\n",
    "words=re.sub('[^0-9a-zA-Zㄱ-ㅎ가-힣]','',word) # 이거는 특수문자를 찾아 없애준다.\n",
    "words"
   ]
  },
  {
   "cell_type": "code",
   "execution_count": 12,
   "metadata": {},
   "outputs": [
    {
     "name": "stdout",
     "output_type": "stream",
     "text": [
      "매칭이 됨 :  a00001\n"
     ]
    }
   ],
   "source": [
    "# 첫글자가 영문이면서, 숫자5자리와  총 6자리인\n",
    "# 문자를 확인하는 형태\n",
    "word='a00001'\n",
    "\n",
    "if re.match('^[a-z]{1}[a-zA-Z0-9]{5}',word):\n",
    "    print('매칭이 됨 : ',word)\n",
    "else:\n",
    "    print('매칭이 되지않음',word)"
   ]
  },
  {
   "cell_type": "code",
   "execution_count": null,
   "metadata": {},
   "outputs": [],
   "source": []
  },
  {
   "cell_type": "code",
   "execution_count": null,
   "metadata": {},
   "outputs": [],
   "source": []
  },
  {
   "cell_type": "code",
   "execution_count": null,
   "metadata": {},
   "outputs": [],
   "source": []
  },
  {
   "cell_type": "code",
   "execution_count": null,
   "metadata": {},
   "outputs": [],
   "source": []
  },
  {
   "cell_type": "code",
   "execution_count": null,
   "metadata": {},
   "outputs": [],
   "source": []
  },
  {
   "cell_type": "code",
   "execution_count": null,
   "metadata": {},
   "outputs": [],
   "source": []
  },
  {
   "cell_type": "code",
   "execution_count": null,
   "metadata": {},
   "outputs": [],
   "source": []
  }
 ],
 "metadata": {
  "kernelspec": {
   "display_name": "Python 3",
   "language": "python",
   "name": "python3"
  },
  "language_info": {
   "codemirror_mode": {
    "name": "ipython",
    "version": 3
   },
   "file_extension": ".py",
   "mimetype": "text/x-python",
   "name": "python",
   "nbconvert_exporter": "python",
   "pygments_lexer": "ipython3",
   "version": "3.12.0"
  }
 },
 "nbformat": 4,
 "nbformat_minor": 2
}
