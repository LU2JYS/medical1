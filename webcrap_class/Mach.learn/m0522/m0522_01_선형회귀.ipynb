{
 "cells": [
  {
   "cell_type": "code",
   "execution_count": 48,
   "metadata": {},
   "outputs": [],
   "source": [
    "from sklearn import svm,metrics\n",
    "from sklearn.neighbors import KNeighborsClassifier\n",
    "from sklearn.model_selection import train_test_split\n",
    "import pandas as pd\n",
    "import numpy as np\n",
    "import random\n",
    "import matplotlib.pyplot as plt\n",
    "import matplotlib\n",
    "import glob, os.path, re\n",
    "\n",
    "matplotlib.rcParams['axes.unicode_minus'] = False  # 마이너스 표시 해결\n",
    "# 한글설정\n",
    "matplotlib.rcParams['font.family'] = 'Malgun Gothic' # windows 사용자\n",
    "# matplotlib.rcParams['font.family'] = 'AppleGothic Gothic' # Mac사용자\n",
    "matplotlib.rcParams['font.size'] = '10' # 글자크기"
   ]
  },
  {
   "cell_type": "code",
   "execution_count": null,
   "metadata": {},
   "outputs": [],
   "source": [
    "# 정규식 표현\n",
    "\n",
    "# . 하나의 문자\n",
    "# ^ 문자열 시작\n",
    "# $ 문자열의 끝\n",
    "\n",
    "# match()처음부터 모두 일치하는 것인지 확인\n",
    "# search() 일치하는것이 있는지 확인\n",
    "# findall() 일차하는것이 있는지 확인\n",
    "# group() 일치하면 해당되는 문자를 출력\n",
    "# compile() 정규식 형태를 지정\n",
    "# sub() 일치하는 데이터를 삭제\n"
   ]
  },
  {
   "cell_type": "code",
   "execution_count": 5,
   "metadata": {},
   "outputs": [
    {
     "name": "stdout",
     "output_type": "stream",
     "text": [
      "매칭이 안됨 loook\n"
     ]
    }
   ],
   "source": [
    "import re\n",
    "p = re.compile('lo.k') # .도 하나의 문자이다..\n",
    "word='loook' #두자리가 들어와서 안됨\n",
    "if p.match('word'):\n",
    "    print('매칭됨.',word)\n",
    "else:\n",
    "    print('매칭이 안됨',word)\n",
    "    "
   ]
  },
  {
   "cell_type": "code",
   "execution_count": 10,
   "metadata": {},
   "outputs": [
    {
     "name": "stdout",
     "output_type": "stream",
     "text": [
      "매칭됨. loak\n"
     ]
    }
   ],
   "source": [
    "import re\n",
    "p = re.compile('lo.k') # 정규표현식 형태를 지정. 하나의 문자\n",
    "word='loak' #3자리가 맞아서 매칭이됨\n",
    "if re.match('lo.k',word):\n",
    "    print('매칭됨.',word)\n",
    "    \n",
    "else:\n",
    "    print('매칭이 안됨',word)\n",
    "    "
   ]
  },
  {
   "cell_type": "code",
   "execution_count": 14,
   "metadata": {},
   "outputs": [
    {
     "name": "stdout",
     "output_type": "stream",
     "text": [
      "매칭됨. good care\n"
     ]
    }
   ],
   "source": [
    "word='good care'\n",
    "if re.search('ca.e',word): # re.search 는  글자범위내에 글자가 있으면 무조건 true\n",
    "    print('매칭됨.',word)\n",
    "    \n",
    "else:\n",
    "    print('매칭이 안됨',word)"
   ]
  },
  {
   "cell_type": "code",
   "execution_count": 15,
   "metadata": {},
   "outputs": [
    {
     "ename": "SyntaxError",
     "evalue": "invalid syntax (3682248251.py, line 1)",
     "output_type": "error",
     "traceback": [
      "\u001b[1;36m  Cell \u001b[1;32mIn[15], line 1\u001b[1;36m\u001b[0m\n\u001b[1;33m    word='삼성전자는 21일 개선된 AI(인공지능) 기능을 제공하는 '갤럭시 북4 엣지'를 공개했다.'\u001b[0m\n\u001b[1;37m                                           ^\u001b[0m\n\u001b[1;31mSyntaxError\u001b[0m\u001b[1;31m:\u001b[0m invalid syntax\n"
     ]
    }
   ],
   "source": [
    "word=\"삼성전자는 21일 개선된 AI(인공지능) 기능을 제공하는 '갤럭시 북4 엣지'를 공개했다.\"\n",
    "if re.search('기능',word): # re.search 는  글자범위내에 글자가 있으면 무조건 true\n",
    "    print('매칭됨.',word)\n",
    "    \n",
    "else:\n",
    "    print('매칭이 안됨',word)"
   ]
  },
  {
   "cell_type": "code",
   "execution_count": null,
   "metadata": {},
   "outputs": [],
   "source": []
  },
  {
   "cell_type": "code",
   "execution_count": null,
   "metadata": {},
   "outputs": [],
   "source": []
  },
  {
   "cell_type": "code",
   "execution_count": null,
   "metadata": {},
   "outputs": [],
   "source": []
  },
  {
   "cell_type": "code",
   "execution_count": null,
   "metadata": {},
   "outputs": [],
   "source": []
  }
 ],
 "metadata": {
  "kernelspec": {
   "display_name": "Python 3",
   "language": "python",
   "name": "python3"
  },
  "language_info": {
   "codemirror_mode": {
    "name": "ipython",
    "version": 3
   },
   "file_extension": ".py",
   "mimetype": "text/x-python",
   "name": "python",
   "nbconvert_exporter": "python",
   "pygments_lexer": "ipython3",
   "version": "3.12.0"
  }
 },
 "nbformat": 4,
 "nbformat_minor": 2
}
